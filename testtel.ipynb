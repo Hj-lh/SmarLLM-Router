{
 "cells": [
  {
   "cell_type": "code",
   "execution_count": 7,
   "id": "e43e9b1a",
   "metadata": {},
   "outputs": [
    {
     "name": "stdout",
     "output_type": "stream",
     "text": [
      "Telegram message sent!\n",
      "Opened URL: https://edugate.ksu.edu.sa/ksu/init\n"
     ]
    }
   ],
   "source": [
    "import requests\n",
    "import webbrowser\n",
    "from plyer import notification\n",
    "\n",
    "# Telegram\n",
    "TELEGRAM_BOT_TOKEN = \"8461043134:AAFdjZEA7G-p--R4Q95z4BOjGIZ8iaQSGHI\"\n",
    "TELEGRAM_CHAT_ID = \"-4933507810\"\n",
    "TEST_URL = \"https://edugate.ksu.edu.sa/ksu/init\"\n",
    "\n",
    "def send_telegram_message(message):\n",
    "    url = f\"https://api.telegram.org/bot{TELEGRAM_BOT_TOKEN}/sendMessage\"\n",
    "    payload = {\"chat_id\": TELEGRAM_CHAT_ID, \"text\": message}\n",
    "    try:\n",
    "        requests.post(url, data=payload)\n",
    "        print(\"Telegram message sent!\")\n",
    "    except Exception as e:\n",
    "        print(\"Failed to send Telegram message:\", e)\n",
    "\n",
    "from win10toast import ToastNotifier\n",
    "\n",
    "\n",
    "\n",
    "def open_link(url):\n",
    "    webbrowser.open(url)\n",
    "    print(f\"Opened URL: {url}\")\n",
    "\n",
    "# Test\n",
    "test_message = \"لا\"\n",
    "send_telegram_message(test_message)\n",
    "import time\n",
    "\n",
    "\n",
    "open_link(TEST_URL)\n"
   ]
  },
  {
   "cell_type": "code",
   "execution_count": 8,
   "id": "f7625b39",
   "metadata": {},
   "outputs": [],
   "source": [
    "DISCORD_WEBHOOK_URL = \"https://discord.com/api/webhooks/1407326133606809640/kwMjl_Hb6kb0GM85cqR7QMNiMd1HJ1ywSzyCmn5yMq4MxWCteU2VUEERBXMi0TffUmOt\"\n",
    "\n",
    "def send_discord_message(message):\n",
    "    payload = {\"content\": message}\n",
    "    try:\n",
    "        response = requests.post(DISCORD_WEBHOOK_URL, json=payload)\n",
    "        if response.status_code != 204:  # 204 = success\n",
    "            print(\"Failed to send Discord message:\", response.text)\n",
    "    except Exception as e:\n",
    "        print(\"Error sending Discord message:\", e)\n",
    "\n",
    "send_discord_message(\"لا gh\")\n"
   ]
  },
  {
   "cell_type": "code",
   "execution_count": null,
   "id": "e5166489",
   "metadata": {},
   "outputs": [],
   "source": []
  }
 ],
 "metadata": {
  "kernelspec": {
   "display_name": "samsungProj",
   "language": "python",
   "name": "python3"
  },
  "language_info": {
   "codemirror_mode": {
    "name": "ipython",
    "version": 3
   },
   "file_extension": ".py",
   "mimetype": "text/x-python",
   "name": "python",
   "nbconvert_exporter": "python",
   "pygments_lexer": "ipython3",
   "version": "3.12.11"
  }
 },
 "nbformat": 4,
 "nbformat_minor": 5
}
